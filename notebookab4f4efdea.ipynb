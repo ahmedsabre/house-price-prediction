{
 "cells": [
  {
   "cell_type": "code",
   "execution_count": 1,
   "id": "0866cb47",
   "metadata": {
    "_cell_guid": "b1076dfc-b9ad-4769-8c92-a6c4dae69d19",
    "_uuid": "8f2839f25d086af736a60e9eeb907d3b93b6e0e5",
    "execution": {
     "iopub.execute_input": "2023-03-02T13:09:04.608183Z",
     "iopub.status.busy": "2023-03-02T13:09:04.607604Z",
     "iopub.status.idle": "2023-03-02T13:09:04.632320Z",
     "shell.execute_reply": "2023-03-02T13:09:04.630576Z"
    },
    "papermill": {
     "duration": 0.037004,
     "end_time": "2023-03-02T13:09:04.635357",
     "exception": false,
     "start_time": "2023-03-02T13:09:04.598353",
     "status": "completed"
    },
    "tags": []
   },
   "outputs": [
    {
     "name": "stdout",
     "output_type": "stream",
     "text": [
      "/kaggle/input/california-housing-prices/housing.csv\n"
     ]
    }
   ],
   "source": [
    "# This Python 3 environment comes with many helpful analytics libraries installed\n",
    "# It is defined by the kaggle/python Docker image: https://github.com/kaggle/docker-python\n",
    "# For example, here's several helpful packages to load\n",
    "\n",
    "import numpy as np # linear algebra\n",
    "import pandas as pd # data processing, CSV file I/O (e.g. pd.read_csv)\n",
    "\n",
    "# Input data files are available in the read-only \"../input/\" directory\n",
    "# For example, running this (by clicking run or pressing Shift+Enter) will list all files under the input directory\n",
    "\n",
    "import os\n",
    "for dirname, _, filenames in os.walk('/kaggle/input'):\n",
    "    for filename in filenames:\n",
    "        print(os.path.join(dirname, filename))\n",
    "\n",
    "# You can write up to 20GB to the current directory (/kaggle/working/) that gets preserved as output when you create a version using \"Save & Run All\" \n",
    "# You can also write temporary files to /kaggle/temp/, but they won't be saved outside of the current session"
   ]
  },
  {
   "cell_type": "markdown",
   "id": "34bb1614",
   "metadata": {
    "papermill": {
     "duration": 0.007716,
     "end_time": "2023-03-02T13:09:04.650856",
     "exception": false,
     "start_time": "2023-03-02T13:09:04.643140",
     "status": "completed"
    },
    "tags": []
   },
   "source": [
    "# house price pridiction by ML and ANN"
   ]
  },
  {
   "cell_type": "code",
   "execution_count": 2,
   "id": "607836cb",
   "metadata": {
    "execution": {
     "iopub.execute_input": "2023-03-02T13:09:04.664414Z",
     "iopub.status.busy": "2023-03-02T13:09:04.663775Z",
     "iopub.status.idle": "2023-03-02T13:09:13.796966Z",
     "shell.execute_reply": "2023-03-02T13:09:13.795453Z"
    },
    "papermill": {
     "duration": 9.143025,
     "end_time": "2023-03-02T13:09:13.799762",
     "exception": false,
     "start_time": "2023-03-02T13:09:04.656737",
     "status": "completed"
    },
    "tags": []
   },
   "outputs": [],
   "source": [
    "import pandas as pd\n",
    "import numpy as np\n",
    "import matplotlib.pyplot as plt\n",
    "%matplotlib inline\n",
    "import seaborn as sns\n",
    "import warnings\n",
    "import keras\n",
    "warnings.filterwarnings('ignore')"
   ]
  },
  {
   "cell_type": "code",
   "execution_count": 3,
   "id": "13d17213",
   "metadata": {
    "execution": {
     "iopub.execute_input": "2023-03-02T13:09:13.813809Z",
     "iopub.status.busy": "2023-03-02T13:09:13.812901Z",
     "iopub.status.idle": "2023-03-02T13:09:13.896347Z",
     "shell.execute_reply": "2023-03-02T13:09:13.894706Z"
    },
    "papermill": {
     "duration": 0.093151,
     "end_time": "2023-03-02T13:09:13.898831",
     "exception": false,
     "start_time": "2023-03-02T13:09:13.805680",
     "status": "completed"
    },
    "tags": []
   },
   "outputs": [
    {
     "data": {
      "text/html": [
       "<div>\n",
       "<style scoped>\n",
       "    .dataframe tbody tr th:only-of-type {\n",
       "        vertical-align: middle;\n",
       "    }\n",
       "\n",
       "    .dataframe tbody tr th {\n",
       "        vertical-align: top;\n",
       "    }\n",
       "\n",
       "    .dataframe thead th {\n",
       "        text-align: right;\n",
       "    }\n",
       "</style>\n",
       "<table border=\"1\" class=\"dataframe\">\n",
       "  <thead>\n",
       "    <tr style=\"text-align: right;\">\n",
       "      <th></th>\n",
       "      <th>longitude</th>\n",
       "      <th>latitude</th>\n",
       "      <th>housing_median_age</th>\n",
       "      <th>total_rooms</th>\n",
       "      <th>total_bedrooms</th>\n",
       "      <th>population</th>\n",
       "      <th>households</th>\n",
       "      <th>median_income</th>\n",
       "      <th>median_house_value</th>\n",
       "      <th>ocean_proximity</th>\n",
       "    </tr>\n",
       "  </thead>\n",
       "  <tbody>\n",
       "    <tr>\n",
       "      <th>0</th>\n",
       "      <td>-122.23</td>\n",
       "      <td>37.88</td>\n",
       "      <td>41.0</td>\n",
       "      <td>880.0</td>\n",
       "      <td>129.0</td>\n",
       "      <td>322.0</td>\n",
       "      <td>126.0</td>\n",
       "      <td>8.3252</td>\n",
       "      <td>452600.0</td>\n",
       "      <td>NEAR BAY</td>\n",
       "    </tr>\n",
       "    <tr>\n",
       "      <th>1</th>\n",
       "      <td>-122.22</td>\n",
       "      <td>37.86</td>\n",
       "      <td>21.0</td>\n",
       "      <td>7099.0</td>\n",
       "      <td>1106.0</td>\n",
       "      <td>2401.0</td>\n",
       "      <td>1138.0</td>\n",
       "      <td>8.3014</td>\n",
       "      <td>358500.0</td>\n",
       "      <td>NEAR BAY</td>\n",
       "    </tr>\n",
       "    <tr>\n",
       "      <th>2</th>\n",
       "      <td>-122.24</td>\n",
       "      <td>37.85</td>\n",
       "      <td>52.0</td>\n",
       "      <td>1467.0</td>\n",
       "      <td>190.0</td>\n",
       "      <td>496.0</td>\n",
       "      <td>177.0</td>\n",
       "      <td>7.2574</td>\n",
       "      <td>352100.0</td>\n",
       "      <td>NEAR BAY</td>\n",
       "    </tr>\n",
       "    <tr>\n",
       "      <th>3</th>\n",
       "      <td>-122.25</td>\n",
       "      <td>37.85</td>\n",
       "      <td>52.0</td>\n",
       "      <td>1274.0</td>\n",
       "      <td>235.0</td>\n",
       "      <td>558.0</td>\n",
       "      <td>219.0</td>\n",
       "      <td>5.6431</td>\n",
       "      <td>341300.0</td>\n",
       "      <td>NEAR BAY</td>\n",
       "    </tr>\n",
       "    <tr>\n",
       "      <th>4</th>\n",
       "      <td>-122.25</td>\n",
       "      <td>37.85</td>\n",
       "      <td>52.0</td>\n",
       "      <td>1627.0</td>\n",
       "      <td>280.0</td>\n",
       "      <td>565.0</td>\n",
       "      <td>259.0</td>\n",
       "      <td>3.8462</td>\n",
       "      <td>342200.0</td>\n",
       "      <td>NEAR BAY</td>\n",
       "    </tr>\n",
       "  </tbody>\n",
       "</table>\n",
       "</div>"
      ],
      "text/plain": [
       "   longitude  latitude  housing_median_age  total_rooms  total_bedrooms  \\\n",
       "0    -122.23     37.88                41.0        880.0           129.0   \n",
       "1    -122.22     37.86                21.0       7099.0          1106.0   \n",
       "2    -122.24     37.85                52.0       1467.0           190.0   \n",
       "3    -122.25     37.85                52.0       1274.0           235.0   \n",
       "4    -122.25     37.85                52.0       1627.0           280.0   \n",
       "\n",
       "   population  households  median_income  median_house_value ocean_proximity  \n",
       "0       322.0       126.0         8.3252            452600.0        NEAR BAY  \n",
       "1      2401.0      1138.0         8.3014            358500.0        NEAR BAY  \n",
       "2       496.0       177.0         7.2574            352100.0        NEAR BAY  \n",
       "3       558.0       219.0         5.6431            341300.0        NEAR BAY  \n",
       "4       565.0       259.0         3.8462            342200.0        NEAR BAY  "
      ]
     },
     "execution_count": 3,
     "metadata": {},
     "output_type": "execute_result"
    }
   ],
   "source": [
    "df=pd.read_csv('/kaggle/input/california-housing-prices/housing.csv')\n",
    "df.head()"
   ]
  },
  {
   "cell_type": "code",
   "execution_count": 4,
   "id": "0d01dc35",
   "metadata": {
    "execution": {
     "iopub.execute_input": "2023-03-02T13:09:13.913091Z",
     "iopub.status.busy": "2023-03-02T13:09:13.912235Z",
     "iopub.status.idle": "2023-03-02T13:09:13.919128Z",
     "shell.execute_reply": "2023-03-02T13:09:13.918177Z"
    },
    "papermill": {
     "duration": 0.01622,
     "end_time": "2023-03-02T13:09:13.921177",
     "exception": false,
     "start_time": "2023-03-02T13:09:13.904957",
     "status": "completed"
    },
    "tags": []
   },
   "outputs": [
    {
     "data": {
      "text/plain": [
       "(20640, 10)"
      ]
     },
     "execution_count": 4,
     "metadata": {},
     "output_type": "execute_result"
    }
   ],
   "source": [
    "df.shape"
   ]
  },
  {
   "cell_type": "code",
   "execution_count": 5,
   "id": "3df7b041",
   "metadata": {
    "execution": {
     "iopub.execute_input": "2023-03-02T13:09:13.935205Z",
     "iopub.status.busy": "2023-03-02T13:09:13.934779Z",
     "iopub.status.idle": "2023-03-02T13:09:13.964319Z",
     "shell.execute_reply": "2023-03-02T13:09:13.962721Z"
    },
    "papermill": {
     "duration": 0.039773,
     "end_time": "2023-03-02T13:09:13.967013",
     "exception": false,
     "start_time": "2023-03-02T13:09:13.927240",
     "status": "completed"
    },
    "tags": []
   },
   "outputs": [
    {
     "name": "stdout",
     "output_type": "stream",
     "text": [
      "<class 'pandas.core.frame.DataFrame'>\n",
      "RangeIndex: 20640 entries, 0 to 20639\n",
      "Data columns (total 10 columns):\n",
      " #   Column              Non-Null Count  Dtype  \n",
      "---  ------              --------------  -----  \n",
      " 0   longitude           20640 non-null  float64\n",
      " 1   latitude            20640 non-null  float64\n",
      " 2   housing_median_age  20640 non-null  float64\n",
      " 3   total_rooms         20640 non-null  float64\n",
      " 4   total_bedrooms      20433 non-null  float64\n",
      " 5   population          20640 non-null  float64\n",
      " 6   households          20640 non-null  float64\n",
      " 7   median_income       20640 non-null  float64\n",
      " 8   median_house_value  20640 non-null  float64\n",
      " 9   ocean_proximity     20640 non-null  object \n",
      "dtypes: float64(9), object(1)\n",
      "memory usage: 1.6+ MB\n"
     ]
    }
   ],
   "source": [
    "df.info()"
   ]
  },
  {
   "cell_type": "markdown",
   "id": "4fc639ae",
   "metadata": {
    "papermill": {
     "duration": 0.006281,
     "end_time": "2023-03-02T13:09:13.980144",
     "exception": false,
     "start_time": "2023-03-02T13:09:13.973863",
     "status": "completed"
    },
    "tags": []
   },
   "source": [
    "# drop nan value"
   ]
  },
  {
   "cell_type": "code",
   "execution_count": 6,
   "id": "478c313e",
   "metadata": {
    "execution": {
     "iopub.execute_input": "2023-03-02T13:09:13.994903Z",
     "iopub.status.busy": "2023-03-02T13:09:13.994481Z",
     "iopub.status.idle": "2023-03-02T13:09:14.007544Z",
     "shell.execute_reply": "2023-03-02T13:09:14.006603Z"
    },
    "papermill": {
     "duration": 0.023256,
     "end_time": "2023-03-02T13:09:14.009872",
     "exception": false,
     "start_time": "2023-03-02T13:09:13.986616",
     "status": "completed"
    },
    "tags": []
   },
   "outputs": [
    {
     "data": {
      "text/plain": [
       "(20433, 10)"
      ]
     },
     "execution_count": 6,
     "metadata": {},
     "output_type": "execute_result"
    }
   ],
   "source": [
    "data=df.dropna()\n",
    "data.shape"
   ]
  },
  {
   "cell_type": "markdown",
   "id": "cae4d6fd",
   "metadata": {
    "papermill": {
     "duration": 0.006848,
     "end_time": "2023-03-02T13:09:14.023162",
     "exception": false,
     "start_time": "2023-03-02T13:09:14.016314",
     "status": "completed"
    },
    "tags": []
   },
   "source": [
    "# correlations between features"
   ]
  },
  {
   "cell_type": "code",
   "execution_count": 7,
   "id": "be84b1bd",
   "metadata": {
    "execution": {
     "iopub.execute_input": "2023-03-02T13:09:14.038351Z",
     "iopub.status.busy": "2023-03-02T13:09:14.037936Z",
     "iopub.status.idle": "2023-03-02T13:09:14.060845Z",
     "shell.execute_reply": "2023-03-02T13:09:14.059563Z"
    },
    "papermill": {
     "duration": 0.033326,
     "end_time": "2023-03-02T13:09:14.063399",
     "exception": false,
     "start_time": "2023-03-02T13:09:14.030073",
     "status": "completed"
    },
    "tags": []
   },
   "outputs": [
    {
     "data": {
      "text/html": [
       "<div>\n",
       "<style scoped>\n",
       "    .dataframe tbody tr th:only-of-type {\n",
       "        vertical-align: middle;\n",
       "    }\n",
       "\n",
       "    .dataframe tbody tr th {\n",
       "        vertical-align: top;\n",
       "    }\n",
       "\n",
       "    .dataframe thead th {\n",
       "        text-align: right;\n",
       "    }\n",
       "</style>\n",
       "<table border=\"1\" class=\"dataframe\">\n",
       "  <thead>\n",
       "    <tr style=\"text-align: right;\">\n",
       "      <th></th>\n",
       "      <th>longitude</th>\n",
       "      <th>latitude</th>\n",
       "      <th>housing_median_age</th>\n",
       "      <th>total_rooms</th>\n",
       "      <th>total_bedrooms</th>\n",
       "      <th>population</th>\n",
       "      <th>households</th>\n",
       "      <th>median_income</th>\n",
       "      <th>median_house_value</th>\n",
       "    </tr>\n",
       "  </thead>\n",
       "  <tbody>\n",
       "    <tr>\n",
       "      <th>longitude</th>\n",
       "      <td>1.000000</td>\n",
       "      <td>-0.924616</td>\n",
       "      <td>-0.109357</td>\n",
       "      <td>0.045480</td>\n",
       "      <td>0.069608</td>\n",
       "      <td>0.100270</td>\n",
       "      <td>0.056513</td>\n",
       "      <td>-0.015550</td>\n",
       "      <td>-0.045398</td>\n",
       "    </tr>\n",
       "    <tr>\n",
       "      <th>latitude</th>\n",
       "      <td>-0.924616</td>\n",
       "      <td>1.000000</td>\n",
       "      <td>0.011899</td>\n",
       "      <td>-0.036667</td>\n",
       "      <td>-0.066983</td>\n",
       "      <td>-0.108997</td>\n",
       "      <td>-0.071774</td>\n",
       "      <td>-0.079626</td>\n",
       "      <td>-0.144638</td>\n",
       "    </tr>\n",
       "    <tr>\n",
       "      <th>housing_median_age</th>\n",
       "      <td>-0.109357</td>\n",
       "      <td>0.011899</td>\n",
       "      <td>1.000000</td>\n",
       "      <td>-0.360628</td>\n",
       "      <td>-0.320451</td>\n",
       "      <td>-0.295787</td>\n",
       "      <td>-0.302768</td>\n",
       "      <td>-0.118278</td>\n",
       "      <td>0.106432</td>\n",
       "    </tr>\n",
       "    <tr>\n",
       "      <th>total_rooms</th>\n",
       "      <td>0.045480</td>\n",
       "      <td>-0.036667</td>\n",
       "      <td>-0.360628</td>\n",
       "      <td>1.000000</td>\n",
       "      <td>0.930380</td>\n",
       "      <td>0.857281</td>\n",
       "      <td>0.918992</td>\n",
       "      <td>0.197882</td>\n",
       "      <td>0.133294</td>\n",
       "    </tr>\n",
       "    <tr>\n",
       "      <th>total_bedrooms</th>\n",
       "      <td>0.069608</td>\n",
       "      <td>-0.066983</td>\n",
       "      <td>-0.320451</td>\n",
       "      <td>0.930380</td>\n",
       "      <td>1.000000</td>\n",
       "      <td>0.877747</td>\n",
       "      <td>0.979728</td>\n",
       "      <td>-0.007723</td>\n",
       "      <td>0.049686</td>\n",
       "    </tr>\n",
       "    <tr>\n",
       "      <th>population</th>\n",
       "      <td>0.100270</td>\n",
       "      <td>-0.108997</td>\n",
       "      <td>-0.295787</td>\n",
       "      <td>0.857281</td>\n",
       "      <td>0.877747</td>\n",
       "      <td>1.000000</td>\n",
       "      <td>0.907186</td>\n",
       "      <td>0.005087</td>\n",
       "      <td>-0.025300</td>\n",
       "    </tr>\n",
       "    <tr>\n",
       "      <th>households</th>\n",
       "      <td>0.056513</td>\n",
       "      <td>-0.071774</td>\n",
       "      <td>-0.302768</td>\n",
       "      <td>0.918992</td>\n",
       "      <td>0.979728</td>\n",
       "      <td>0.907186</td>\n",
       "      <td>1.000000</td>\n",
       "      <td>0.013434</td>\n",
       "      <td>0.064894</td>\n",
       "    </tr>\n",
       "    <tr>\n",
       "      <th>median_income</th>\n",
       "      <td>-0.015550</td>\n",
       "      <td>-0.079626</td>\n",
       "      <td>-0.118278</td>\n",
       "      <td>0.197882</td>\n",
       "      <td>-0.007723</td>\n",
       "      <td>0.005087</td>\n",
       "      <td>0.013434</td>\n",
       "      <td>1.000000</td>\n",
       "      <td>0.688355</td>\n",
       "    </tr>\n",
       "    <tr>\n",
       "      <th>median_house_value</th>\n",
       "      <td>-0.045398</td>\n",
       "      <td>-0.144638</td>\n",
       "      <td>0.106432</td>\n",
       "      <td>0.133294</td>\n",
       "      <td>0.049686</td>\n",
       "      <td>-0.025300</td>\n",
       "      <td>0.064894</td>\n",
       "      <td>0.688355</td>\n",
       "      <td>1.000000</td>\n",
       "    </tr>\n",
       "  </tbody>\n",
       "</table>\n",
       "</div>"
      ],
      "text/plain": [
       "                    longitude  latitude  housing_median_age  total_rooms  \\\n",
       "longitude            1.000000 -0.924616           -0.109357     0.045480   \n",
       "latitude            -0.924616  1.000000            0.011899    -0.036667   \n",
       "housing_median_age  -0.109357  0.011899            1.000000    -0.360628   \n",
       "total_rooms          0.045480 -0.036667           -0.360628     1.000000   \n",
       "total_bedrooms       0.069608 -0.066983           -0.320451     0.930380   \n",
       "population           0.100270 -0.108997           -0.295787     0.857281   \n",
       "households           0.056513 -0.071774           -0.302768     0.918992   \n",
       "median_income       -0.015550 -0.079626           -0.118278     0.197882   \n",
       "median_house_value  -0.045398 -0.144638            0.106432     0.133294   \n",
       "\n",
       "                    total_bedrooms  population  households  median_income  \\\n",
       "longitude                 0.069608    0.100270    0.056513      -0.015550   \n",
       "latitude                 -0.066983   -0.108997   -0.071774      -0.079626   \n",
       "housing_median_age       -0.320451   -0.295787   -0.302768      -0.118278   \n",
       "total_rooms               0.930380    0.857281    0.918992       0.197882   \n",
       "total_bedrooms            1.000000    0.877747    0.979728      -0.007723   \n",
       "population                0.877747    1.000000    0.907186       0.005087   \n",
       "households                0.979728    0.907186    1.000000       0.013434   \n",
       "median_income            -0.007723    0.005087    0.013434       1.000000   \n",
       "median_house_value        0.049686   -0.025300    0.064894       0.688355   \n",
       "\n",
       "                    median_house_value  \n",
       "longitude                    -0.045398  \n",
       "latitude                     -0.144638  \n",
       "housing_median_age            0.106432  \n",
       "total_rooms                   0.133294  \n",
       "total_bedrooms                0.049686  \n",
       "population                   -0.025300  \n",
       "households                    0.064894  \n",
       "median_income                 0.688355  \n",
       "median_house_value            1.000000  "
      ]
     },
     "execution_count": 7,
     "metadata": {},
     "output_type": "execute_result"
    }
   ],
   "source": [
    "data.corr()"
   ]
  },
  {
   "cell_type": "code",
   "execution_count": 8,
   "id": "a0f7e853",
   "metadata": {
    "execution": {
     "iopub.execute_input": "2023-03-02T13:09:14.080344Z",
     "iopub.status.busy": "2023-03-02T13:09:14.079950Z",
     "iopub.status.idle": "2023-03-02T13:09:14.734983Z",
     "shell.execute_reply": "2023-03-02T13:09:14.733501Z"
    },
    "papermill": {
     "duration": 0.667265,
     "end_time": "2023-03-02T13:09:14.737692",
     "exception": false,
     "start_time": "2023-03-02T13:09:14.070427",
     "status": "completed"
    },
    "tags": []
   },
   "outputs": [
    {
     "data": {
      "text/plain": [
       "<AxesSubplot:>"
      ]
     },
     "execution_count": 8,
     "metadata": {},
     "output_type": "execute_result"
    },
    {
     "data": {
      "image/png": "[encoded data removed]",
      "text/plain": [
       "<Figure size 1600x800 with 2 Axes>"
      ]
     },
     "metadata": {},
     "output_type": "display_data"
    }
   ],
   "source": [
    "plt.figure(figsize=(16,8))\n",
    "sns.heatmap(data.corr(),annot=True)"
   ]
  },
  {
   "cell_type": "markdown",
   "id": "8768feb0",
   "metadata": {
    "papermill": {
     "duration": 0.00769,
     "end_time": "2023-03-02T13:09:14.753638",
     "exception": false,
     "start_time": "2023-03-02T13:09:14.745948",
     "status": "completed"
    },
    "tags": []
   },
   "source": [
    "# ML algorithm"
   ]
  },
  {
   "cell_type": "code",
   "execution_count": 9,
   "id": "390ae1ca",
   "metadata": {
    "execution": {
     "iopub.execute_input": "2023-03-02T13:09:14.771485Z",
     "iopub.status.busy": "2023-03-02T13:09:14.771110Z",
     "iopub.status.idle": "2023-03-02T13:09:14.787145Z",
     "shell.execute_reply": "2023-03-02T13:09:14.785451Z"
    },
    "papermill": {
     "duration": 0.028237,
     "end_time": "2023-03-02T13:09:14.789827",
     "exception": false,
     "start_time": "2023-03-02T13:09:14.761590",
     "status": "completed"
    },
    "tags": []
   },
   "outputs": [],
   "source": [
    "data=pd.get_dummies(data)"
   ]
  },
  {
   "cell_type": "markdown",
   "id": "0230001b",
   "metadata": {
    "papermill": {
     "duration": 0.008196,
     "end_time": "2023-03-02T13:09:14.806232",
     "exception": false,
     "start_time": "2023-03-02T13:09:14.798036",
     "status": "completed"
    },
    "tags": []
   },
   "source": [
    "# split the data"
   ]
  },
  {
   "cell_type": "code",
   "execution_count": 10,
   "id": "98157d63",
   "metadata": {
    "execution": {
     "iopub.execute_input": "2023-03-02T13:09:14.825451Z",
     "iopub.status.busy": "2023-03-02T13:09:14.824746Z",
     "iopub.status.idle": "2023-03-02T13:09:15.237850Z",
     "shell.execute_reply": "2023-03-02T13:09:15.237008Z"
    },
    "papermill": {
     "duration": 0.425662,
     "end_time": "2023-03-02T13:09:15.240239",
     "exception": false,
     "start_time": "2023-03-02T13:09:14.814577",
     "status": "completed"
    },
    "tags": []
   },
   "outputs": [],
   "source": [
    "from sklearn.model_selection import train_test_split\n",
    "X=data.drop(['median_house_value'],axis=1)\n",
    "y=data['median_house_value']"
   ]
  },
  {
   "cell_type": "markdown",
   "id": "f1197b2c",
   "metadata": {
    "papermill": {
     "duration": 0.007923,
     "end_time": "2023-03-02T13:09:15.256233",
     "exception": false,
     "start_time": "2023-03-02T13:09:15.248310",
     "status": "completed"
    },
    "tags": []
   },
   "source": [
    "# scaling the data"
   ]
  },
  {
   "cell_type": "code",
   "execution_count": 11,
   "id": "61aad92f",
   "metadata": {
    "execution": {
     "iopub.execute_input": "2023-03-02T13:09:15.274698Z",
     "iopub.status.busy": "2023-03-02T13:09:15.274099Z",
     "iopub.status.idle": "2023-03-02T13:09:15.285377Z",
     "shell.execute_reply": "2023-03-02T13:09:15.284124Z"
    },
    "papermill": {
     "duration": 0.023679,
     "end_time": "2023-03-02T13:09:15.288053",
     "exception": false,
     "start_time": "2023-03-02T13:09:15.264374",
     "status": "completed"
    },
    "tags": []
   },
   "outputs": [],
   "source": [
    "from sklearn.preprocessing import MinMaxScaler\n",
    "scaler=MinMaxScaler()\n",
    "X_scale=scaler.fit_transform(X)"
   ]
  },
  {
   "cell_type": "code",
   "execution_count": 12,
   "id": "2fd3dd42",
   "metadata": {
    "execution": {
     "iopub.execute_input": "2023-03-02T13:09:15.305596Z",
     "iopub.status.busy": "2023-03-02T13:09:15.305202Z",
     "iopub.status.idle": "2023-03-02T13:09:15.315288Z",
     "shell.execute_reply": "2023-03-02T13:09:15.313743Z"
    },
    "papermill": {
     "duration": 0.021933,
     "end_time": "2023-03-02T13:09:15.317909",
     "exception": false,
     "start_time": "2023-03-02T13:09:15.295976",
     "status": "completed"
    },
    "tags": []
   },
   "outputs": [],
   "source": [
    "X_train,X_test,y_train,y_test=train_test_split(X_scale,y,test_size=.2,random_state=42)"
   ]
  },
  {
   "cell_type": "markdown",
   "id": "d7e28987",
   "metadata": {
    "papermill": {
     "duration": 0.007887,
     "end_time": "2023-03-02T13:09:15.333891",
     "exception": false,
     "start_time": "2023-03-02T13:09:15.326004",
     "status": "completed"
    },
    "tags": []
   },
   "source": [
    "# LinearRegression model"
   ]
  },
  {
   "cell_type": "code",
   "execution_count": 13,
   "id": "f0bed501",
   "metadata": {
    "execution": {
     "iopub.execute_input": "2023-03-02T13:09:15.352138Z",
     "iopub.status.busy": "2023-03-02T13:09:15.351687Z",
     "iopub.status.idle": "2023-03-02T13:09:15.467633Z",
     "shell.execute_reply": "2023-03-02T13:09:15.465881Z"
    },
    "papermill": {
     "duration": 0.128634,
     "end_time": "2023-03-02T13:09:15.470783",
     "exception": false,
     "start_time": "2023-03-02T13:09:15.342149",
     "status": "completed"
    },
    "tags": []
   },
   "outputs": [
    {
     "data": {
      "text/plain": [
       "LinearRegression()"
      ]
     },
     "execution_count": 13,
     "metadata": {},
     "output_type": "execute_result"
    }
   ],
   "source": [
    "from sklearn.linear_model import LinearRegression\n",
    "lr=LinearRegression()\n",
    "lr.fit(X_train,y_train)"
   ]
  },
  {
   "cell_type": "code",
   "execution_count": 14,
   "id": "0daca8c6",
   "metadata": {
    "execution": {
     "iopub.execute_input": "2023-03-02T13:09:15.490142Z",
     "iopub.status.busy": "2023-03-02T13:09:15.489348Z",
     "iopub.status.idle": "2023-03-02T13:09:15.503768Z",
     "shell.execute_reply": "2023-03-02T13:09:15.502804Z"
    },
    "papermill": {
     "duration": 0.026832,
     "end_time": "2023-03-02T13:09:15.505964",
     "exception": false,
     "start_time": "2023-03-02T13:09:15.479132",
     "status": "completed"
    },
    "tags": []
   },
   "outputs": [
    {
     "data": {
      "text/plain": [
       "0.6488402154431996"
      ]
     },
     "execution_count": 14,
     "metadata": {},
     "output_type": "execute_result"
    }
   ],
   "source": [
    "lr.score(X_test,y_test)"
   ]
  },
  {
   "cell_type": "markdown",
   "id": "fce92860",
   "metadata": {
    "papermill": {
     "duration": 0.010231,
     "end_time": "2023-03-02T13:09:15.526882",
     "exception": false,
     "start_time": "2023-03-02T13:09:15.516651",
     "status": "completed"
    },
    "tags": []
   },
   "source": [
    "# RandomForestRegressor model"
   ]
  },
  {
   "cell_type": "code",
   "execution_count": 15,
   "id": "c1881150",
   "metadata": {
    "execution": {
     "iopub.execute_input": "2023-03-02T13:09:15.549592Z",
     "iopub.status.busy": "2023-03-02T13:09:15.549210Z",
     "iopub.status.idle": "2023-03-02T13:09:25.540309Z",
     "shell.execute_reply": "2023-03-02T13:09:25.539345Z"
    },
    "papermill": {
     "duration": 10.004935,
     "end_time": "2023-03-02T13:09:25.542333",
     "exception": false,
     "start_time": "2023-03-02T13:09:15.537398",
     "status": "completed"
    },
    "tags": []
   },
   "outputs": [
    {
     "data": {
      "text/plain": [
       "RandomForestRegressor()"
      ]
     },
     "execution_count": 15,
     "metadata": {},
     "output_type": "execute_result"
    }
   ],
   "source": [
    "from sklearn.ensemble import RandomForestRegressor\n",
    "forest=RandomForestRegressor()\n",
    "forest.fit(X_train,y_train)"
   ]
  },
  {
   "cell_type": "code",
   "execution_count": 16,
   "id": "a4e1a089",
   "metadata": {
    "execution": {
     "iopub.execute_input": "2023-03-02T13:09:25.560318Z",
     "iopub.status.busy": "2023-03-02T13:09:25.559765Z",
     "iopub.status.idle": "2023-03-02T13:09:25.688981Z",
     "shell.execute_reply": "2023-03-02T13:09:25.687893Z"
    },
    "papermill": {
     "duration": 0.140683,
     "end_time": "2023-03-02T13:09:25.691108",
     "exception": false,
     "start_time": "2023-03-02T13:09:25.550425",
     "status": "completed"
    },
    "tags": []
   },
   "outputs": [
    {
     "data": {
      "text/plain": [
       "0.8262559266341798"
      ]
     },
     "execution_count": 16,
     "metadata": {},
     "output_type": "execute_result"
    }
   ],
   "source": [
    "forest.score(X_test,y_test)"
   ]
  },
  {
   "cell_type": "markdown",
   "id": "46f269c9",
   "metadata": {
    "papermill": {
     "duration": 0.008013,
     "end_time": "2023-03-02T13:09:25.707673",
     "exception": false,
     "start_time": "2023-03-02T13:09:25.699660",
     "status": "completed"
    },
    "tags": []
   },
   "source": [
    "# using grid search to find best hyperparameters"
   ]
  },
  {
   "cell_type": "code",
   "execution_count": 17,
   "id": "b4d06d19",
   "metadata": {
    "execution": {
     "iopub.execute_input": "2023-03-02T13:09:25.726046Z",
     "iopub.status.busy": "2023-03-02T13:09:25.725697Z",
     "iopub.status.idle": "2023-03-02T13:17:01.335053Z",
     "shell.execute_reply": "2023-03-02T13:17:01.334058Z"
    },
    "papermill": {
     "duration": 455.628898,
     "end_time": "2023-03-02T13:17:01.345012",
     "exception": false,
     "start_time": "2023-03-02T13:09:25.716114",
     "status": "completed"
    },
    "tags": []
   },
   "outputs": [
    {
     "data": {
      "text/plain": [
       "GridSearchCV(cv=5, estimator=RandomForestRegressor(),\n",
       "             param_grid={'max_features': [2, 4, 6, 8],\n",
       "                         'n_estimators': [100, 200, 300]},\n",
       "             return_train_score=True, scoring='neg_mean_squared_error')"
      ]
     },
     "execution_count": 17,
     "metadata": {},
     "output_type": "execute_result"
    }
   ],
   "source": [
    "from sklearn.model_selection import GridSearchCV\n",
    "param_grid={\n",
    "    'n_estimators':[100,200,300],'max_features':[2,4,6,8]\n",
    "}\n",
    "grid_search=GridSearchCV(forest,param_grid,cv=5,scoring='neg_mean_squared_error',return_train_score=True)\n",
    "grid_search.fit(X_train,y_train)"
   ]
  },
  {
   "cell_type": "code",
   "execution_count": 18,
   "id": "391e9645",
   "metadata": {
    "execution": {
     "iopub.execute_input": "2023-03-02T13:17:01.364563Z",
     "iopub.status.busy": "2023-03-02T13:17:01.363330Z",
     "iopub.status.idle": "2023-03-02T13:17:01.720972Z",
     "shell.execute_reply": "2023-03-02T13:17:01.719789Z"
    },
    "papermill": {
     "duration": 0.370417,
     "end_time": "2023-03-02T13:17:01.723674",
     "exception": false,
     "start_time": "2023-03-02T13:17:01.353257",
     "status": "completed"
    },
    "tags": []
   },
   "outputs": [
    {
     "data": {
      "text/plain": [
       "0.8275233043100582"
      ]
     },
     "execution_count": 18,
     "metadata": {},
     "output_type": "execute_result"
    }
   ],
   "source": [
    "best_forest=grid_search.best_estimator_\n",
    "best_forest.score(X_test,y_test)"
   ]
  },
  {
   "cell_type": "markdown",
   "id": "fa9ace7f",
   "metadata": {
    "papermill": {
     "duration": 0.008138,
     "end_time": "2023-03-02T13:17:01.740342",
     "exception": false,
     "start_time": "2023-03-02T13:17:01.732204",
     "status": "completed"
    },
    "tags": []
   },
   "source": [
    "# the random forest regressor is the best model"
   ]
  }
 ],
 "metadata": {
  "kernelspec": {
   "display_name": "Python 3",
   "language": "python",
   "name": "python3"
  },
  "language_info": {
   "codemirror_mode": {
    "name": "ipython",
    "version": 3
   },
   "file_extension": ".py",
   "mimetype": "text/x-python",
   "name": "python",
   "nbconvert_exporter": "python",
   "pygments_lexer": "ipython3",
   "version": "3.7.12"
  },
  "papermill": {
   "default_parameters": {},
   "duration": 488.715425,
   "end_time": "2023-03-02T13:17:04.444427",
   "environment_variables": {},
   "exception": null,
   "input_path": "__notebook__.ipynb",
   "output_path": "__notebook__.ipynb",
   "parameters": {},
   "start_time": "2023-03-02T13:08:55.729002",
   "version": "2.4.0"
  }
 },
 "nbformat": 4,
 "nbformat_minor": 5
}
